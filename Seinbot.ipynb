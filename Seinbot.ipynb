{
 "cells": [
  {
   "cell_type": "code",
   "execution_count": 1,
   "metadata": {},
   "outputs": [
    {
     "name": "stdout",
     "output_type": "stream",
     "text": [
      "[MoviePy] >>>> Building video output.mp4\n",
      "[MoviePy] Writing video output.mp4\n"
     ]
    },
    {
     "name": "stderr",
     "output_type": "stream",
     "text": [
      "100%|██████████| 829/829 [00:21<00:00, 37.71it/s]\n"
     ]
    },
    {
     "name": "stdout",
     "output_type": "stream",
     "text": [
      "[MoviePy] Done.\n",
      "[MoviePy] >>>> Video ready: output.mp4 \n",
      "\n",
      "CPU times: user 1min 6s, sys: 880 ms, total: 1min 7s\n",
      "Wall time: 22.3 s\n"
     ]
    },
    {
     "data": {
      "text/html": [
       "<video width=\"960\" height=\"540\" controls><source src=\"output.mp4\"></video>"
      ],
      "text/plain": [
       "<IPython.core.display.HTML object>"
      ]
     },
     "execution_count": 1,
     "metadata": {},
     "output_type": "execute_result"
    }
   ],
   "source": [
    "import face_recognition\n",
    "from PIL import Image, ImageDraw\n",
    "import numpy\n",
    "import cv2\n",
    "import imageio\n",
    "imageio.plugins.ffmpeg.download()\n",
    "from moviepy.editor import VideoFileClip\n",
    "from IPython.display import HTML\n",
    "\n",
    "# Define video function\n",
    "def create_video(pipeline_in, input_video, output_video):\n",
    "    # Process video\n",
    "    video = VideoFileClip( input_video )\n",
    "    video_processed = video.fl_image( pipeline_in )\n",
    "    %time video_processed.write_videofile( output_video, audio=False )\n",
    "    \n",
    "# Load a sample picture and learn how to recognize it.\n",
    "jerry_image = face_recognition.load_image_file(\"known_people/Jerry Seinfeld.jpg\")\n",
    "jerry_face_encoding = face_recognition.face_encodings(jerry_image)[0]\n",
    "\n",
    "# Initialize some variables\n",
    "face_locations = []\n",
    "face_encodings = []\n",
    "face_names = []\n",
    "process_this_frame = True\n",
    "    \n",
    "# Get a reference to webcam #0\n",
    "#video_capture = cv2.VideoCapture(0)    \n",
    "    \n",
    "# Pipeline\n",
    "def pipeline( image ):\n",
    "    global process_this_frame, face_locations, face_encodings, face_names\n",
    "        \n",
    "    # Find all facial features in all the faces in the image\n",
    "#    face_landmarks_list = face_recognition.face_landmarks(image)\n",
    "\n",
    "        # Grab a single frame of video from the camera\n",
    "#    ret, frame = video_capture.read()\n",
    "\n",
    "    # Resize frame of video to 1/4 size for faster face recognition processing\n",
    "    small_frame = cv2.resize(image, (0, 0), fx=0.25, fy=0.25)\n",
    "\n",
    "    # Only process every other frame of video to save time\n",
    "    if process_this_frame:\n",
    "        # Find all the faces and face encodings in the current frame of video\n",
    "        face_locations = face_recognition.face_locations(small_frame)\n",
    "        face_encodings = face_recognition.face_encodings(small_frame, face_locations)\n",
    "        face_names = []\n",
    "        for face_encoding in face_encodings:\n",
    "            # See if the face is a match for the known face(s)\n",
    "            match = face_recognition.compare_faces([jerry_face_encoding], face_encoding)\n",
    "            name = \"Unknown\"\n",
    "            if match[0]:\n",
    "                name = \"Jerry\"\n",
    "            face_names.append(name)\n",
    "    process_this_frame = not process_this_frame\n",
    "\n",
    "    # Display the results\n",
    "    for (top, right, bottom, left), name in zip(face_locations, face_names):\n",
    "        # Scale back up face locations since the frame we detected in was scaled to 1/4 size\n",
    "        top *= 4\n",
    "        right *= 4\n",
    "        bottom *= 4\n",
    "        left *= 4\n",
    "\n",
    "        # Draw a box around the face\n",
    "        cv2.rectangle(image, (left, top), (right, bottom), (0, 0, 255), 2)\n",
    "\n",
    "        # Draw a label with a name below the face\n",
    "        cv2.rectangle(image, (left, bottom - 35), (right, bottom), (0, 0, 255), cv2.FILLED)\n",
    "        font = cv2.FONT_HERSHEY_DUPLEX\n",
    "        cv2.putText(image, name, (left + 6, bottom - 6), font, 1.0, (255, 255, 255), 1)\n",
    "\n",
    "    # Display the resulting image\n",
    "#    cv2.imshow('Video', frame)\n",
    "   \n",
    "    return image\n",
    "\n",
    "# Create video\n",
    "create_video(pipeline, \"input.mov\", \"output.mp4\" )\n",
    "\n",
    "# Show video\n",
    "HTML(\"\"\"<video width=\"960\" height=\"540\" controls><source src=\"{0}\"></video>\"\"\".format( \"output.mp4\" ))\n",
    "\n",
    "# Release handle to the camera\n",
    "#video_capture.release()\n",
    "#cv2.destroyAllWindows()\n"
   ]
  },
  {
   "cell_type": "code",
   "execution_count": null,
   "metadata": {
    "collapsed": true
   },
   "outputs": [],
   "source": []
  }
 ],
 "metadata": {
  "anaconda-cloud": {},
  "kernelspec": {
   "display_name": "Python 3",
   "language": "python",
   "name": "python3"
  },
  "language_info": {
   "codemirror_mode": {
    "name": "ipython",
    "version": 3
   },
   "file_extension": ".py",
   "mimetype": "text/x-python",
   "name": "python",
   "nbconvert_exporter": "python",
   "pygments_lexer": "ipython3",
   "version": "3.6.1"
  },
  "widgets": {
   "state": {},
   "version": "1.1.2"
  }
 },
 "nbformat": 4,
 "nbformat_minor": 1
}
