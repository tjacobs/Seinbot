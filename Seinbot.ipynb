{
 "cells": [
  {
   "cell_type": "code",
   "execution_count": 1,
   "metadata": {
    "collapsed": false
   },
   "outputs": [
    {
     "name": "stdout",
     "output_type": "stream",
     "text": [
      "[MoviePy] >>>> Building video output.mp4\n",
      "[MoviePy] Writing video output.mp4\n"
     ]
    },
    {
     "name": "stderr",
     "output_type": "stream",
     "text": [
      "100%|██████████| 829/829 [00:26<00:00, 28.97it/s]\n"
     ]
    },
    {
     "name": "stdout",
     "output_type": "stream",
     "text": [
      "[MoviePy] Done.\n",
      "[MoviePy] >>>> Video ready: output.mp4 \n",
      "\n",
      "CPU times: user 1.72 s, sys: 1.02 s, total: 2.74 s\n",
      "Wall time: 28 s\n"
     ]
    },
    {
     "data": {
      "text/html": [
       "<video width=\"960\" height=\"540\" controls><source src=\"output.mp4\"></video>"
      ],
      "text/plain": [
       "<IPython.core.display.HTML object>"
      ]
     },
     "execution_count": 1,
     "metadata": {},
     "output_type": "execute_result"
    }
   ],
   "source": [
    "# Video\n",
    "from moviepy.editor import VideoFileClip\n",
    "from IPython.display import HTML\n",
    "\n",
    "# Define video function\n",
    "def create_video(pipeline_in, input_video, output_video):\n",
    "    # Process video\n",
    "    video = VideoFileClip( input_video )\n",
    "    video_processed = video.fl_image( pipeline_in )\n",
    "    %time video_processed.write_videofile( output_video, audio=False )\n",
    "\n",
    "# Pipeline\n",
    "def pipeline( image ):\n",
    "\n",
    "    return image\n",
    "\n",
    "# Create video\n",
    "create_video(pipeline, \"a.mov\", \"output.mp4\" )\n",
    "\n",
    "# Show video\n",
    "HTML(\"\"\"<video width=\"960\" height=\"540\" controls><source src=\"{0}\"></video>\"\"\".format( \"output.mp4\" ))\n",
    "\n"
   ]
  },
  {
   "cell_type": "code",
   "execution_count": null,
   "metadata": {
    "collapsed": true
   },
   "outputs": [],
   "source": []
  }
 ],
 "metadata": {
  "anaconda-cloud": {},
  "kernelspec": {
   "display_name": "Python [conda env:carnd-term1]",
   "language": "python",
   "name": "conda-env-carnd-term1-py"
  },
  "language_info": {
   "codemirror_mode": {
    "name": "ipython",
    "version": 3
   },
   "file_extension": ".py",
   "mimetype": "text/x-python",
   "name": "python",
   "nbconvert_exporter": "python",
   "pygments_lexer": "ipython3",
   "version": "3.5.2"
  }
 },
 "nbformat": 4,
 "nbformat_minor": 1
}
