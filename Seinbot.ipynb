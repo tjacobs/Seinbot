{
 "cells": [
  {
   "cell_type": "code",
   "execution_count": 31,
   "metadata": {},
   "outputs": [
    {
     "data": {
      "image/png": "[encoded data removed]",
      "text/plain": [
       "<matplotlib.figure.Figure at 0x111b52978>"
      ]
     },
     "metadata": {},
     "output_type": "display_data"
    },
    {
     "name": "stdout",
     "output_type": "stream",
     "text": [
      "High five! You successfuly sent some data to your account on plotly. View your plot in your browser at https://plot.ly/~TomJacobs/0 or inside your plot.ly account where it is named 'Screen Time'\n"
     ]
    },
    {
     "data": {
      "text/html": [
       "<iframe id=\"igraph\" scrolling=\"no\" style=\"border:none;\" seamless=\"seamless\" src=\"https://plot.ly/~TomJacobs/0.embed\" height=\"525px\" width=\"100%\"></iframe>"
      ],
      "text/plain": [
       "<plotly.tools.PlotlyDisplay object>"
      ]
     },
     "execution_count": 31,
     "metadata": {},
     "output_type": "execute_result"
    }
   ],
   "source": [
    "import face_recognition\n",
    "from PIL import Image, ImageDraw\n",
    "import matplotlib.pyplot as plt\n",
    "import datetime\n",
    "import numpy as np\n",
    "from moviepy.editor import VideoFileClip\n",
    "from IPython.display import HTML\n",
    "%matplotlib inline\n",
    "\n",
    "# Define video function\n",
    "def create_video(pipeline_in, input_video, output_video):\n",
    "    # Process video\n",
    "    video = VideoFileClip( input_video )\n",
    "    video_processed = video.fl_image( pipeline_in )\n",
    "    %time video_processed.write_videofile( output_video, audio=False )\n",
    "\n",
    "# Pipeline\n",
    "def pipeline( image ):\n",
    "     \n",
    "#    # Load the jpg file into a numpy array\n",
    "#    image = face_recognition.load_image(image)\n",
    "\n",
    "    # Find all facial features in all the faces in the image\n",
    "    face_landmarks_list = face_recognition.face_landmarks(image)\n",
    "\n",
    "    for face_landmarks in face_landmarks_list:\n",
    "        pil_image = Image.fromarray(image)\n",
    "        d = ImageDraw.Draw(pil_image, 'RGBA')\n",
    "\n",
    "        # Make the eyebrows into a nightmare\n",
    "        d.polygon(face_landmarks['left_eyebrow'], fill=(68, 54, 39, 128))\n",
    "        d.polygon(face_landmarks['right_eyebrow'], fill=(68, 54, 39, 128))\n",
    "        d.line(face_landmarks['left_eyebrow'], fill=(68, 54, 39, 150), width=5)\n",
    "        d.line(face_landmarks['right_eyebrow'], fill=(68, 54, 39, 150), width=5)\n",
    "\n",
    "        # Gloss the lips\n",
    "        d.polygon(face_landmarks['top_lip'], fill=(150, 0, 0, 128))\n",
    "        d.polygon(face_landmarks['bottom_lip'], fill=(150, 0, 0, 128))\n",
    "        d.line(face_landmarks['top_lip'], fill=(150, 0, 0, 64), width=8)\n",
    "        d.line(face_landmarks['bottom_lip'], fill=(150, 0, 0, 64), width=8)\n",
    "\n",
    "        # Sparkle the eyes\n",
    "        d.polygon(face_landmarks['left_eye'], fill=(255, 255, 255, 30))\n",
    "        d.polygon(face_landmarks['right_eye'], fill=(255, 255, 255, 30))\n",
    "\n",
    "        # Apply some eyeliner\n",
    "        d.line(face_landmarks['left_eye'] + [face_landmarks['left_eye'][0]], fill=(0, 0, 0, 110), width=6)\n",
    "        d.line(face_landmarks['right_eye'] + [face_landmarks['right_eye'][0]], fill=(0, 0, 0, 110), width=6)\n",
    "\n",
    "        return numpy.asarray(pil_image)\n",
    "    return image\n",
    "\n",
    "\n",
    "# Create video\n",
    "#create_video(pipeline, \"input_short.mov\", \"output.mp4\" )\n",
    "\n",
    "# Show video\n",
    "#HTML(\"\"\"<video width=\"960\" height=\"540\" controls><source src=\"{0}\"></video>\"\"\".format( \"output.mp4\" ))\n",
    "\n",
    "t = np.array(range(0, 22*60, 5))\n",
    "\n",
    "jerry = np.array(([1] * int(22*60/5)))\n",
    "george = np.array(([0] * int(22*60/5)))\n",
    "elaine = np.array(([0] * int(22*60/5)))\n",
    "kramer = np.array(([0] * int(22*60/5)))\n",
    "\n",
    "width = 18\n",
    "height = 5\n",
    "plt.figure(figsize=(width, height))\n",
    "plt.plot(t, jerry, 'b', \n",
    "         t, george, 'y', \n",
    "         t, elaine, 'p', \n",
    "         t, kramer, 'r^')\n",
    "plt.show()\n",
    "\n",
    "\n",
    "import plotly.plotly as py\n",
    "import plotly.figure_factory as ff\n",
    "import plotly \n",
    "\n",
    "plotly.tools.set_credentials_file(username='TomJacobs', api_key='juXJEk8RkE5bfaydkE4A')\n",
    "\n",
    "# Add histogram data\n",
    "x1 = np.random.randn(200)-2  \n",
    "x2 = np.random.randn(200)  \n",
    "x3 = np.random.randn(200)+2  \n",
    "x4 = np.random.randn(200)+4  \n",
    "\n",
    "# Group data together\n",
    "hist_data = [x1, x2, x3, x4]\n",
    "group_labels = ['Jerry', 'George', 'Elaine', 'Kramer']\n",
    "\n",
    "# Create distplot with custom bin_size\n",
    "fig = ff.create_distplot(hist_data, group_labels, bin_size=.2)\n",
    "\n",
    "# Plot!\n",
    "py.iplot(fig, filename='Screen Time')\n"
   ]
  },
  {
   "cell_type": "code",
   "execution_count": null,
   "metadata": {
    "collapsed": true
   },
   "outputs": [],
   "source": []
  }
 ],
 "metadata": {
  "anaconda-cloud": {},
  "kernelspec": {
   "display_name": "Python 3",
   "language": "python",
   "name": "python3"
  },
  "language_info": {
   "codemirror_mode": {
    "name": "ipython",
    "version": 3
   },
   "file_extension": ".py",
   "mimetype": "text/x-python",
   "name": "python",
   "nbconvert_exporter": "python",
   "pygments_lexer": "ipython3",
   "version": "3.6.1"
  }
 },
 "nbformat": 4,
 "nbformat_minor": 1
}
