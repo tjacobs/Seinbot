{
 "cells": [
  {
   "cell_type": "code",
   "execution_count": 1,
   "metadata": {},
   "outputs": [
    {
     "name": "stdout",
     "output_type": "stream",
     "text": [
      "ok \n",
      "[MoviePy] >>>> Building video output.mp4\n",
      "[MoviePy] Writing video output.mp4\n"
     ]
    },
    {
     "name": "stderr",
     "output_type": "stream",
     "text": [
      "100%|██████████| 97/97 [00:39<00:00,  2.48it/s]\n"
     ]
    },
    {
     "name": "stdout",
     "output_type": "stream",
     "text": [
      "[MoviePy] Done.\n",
      "[MoviePy] >>>> Video ready: output.mp4 \n",
      "\n",
      "CPU times: user 38.7 s, sys: 372 ms, total: 39.1 s\n",
      "Wall time: 39.5 s\n"
     ]
    },
    {
     "data": {
      "text/html": [
       "<video width=\"960\" height=\"540\" controls><source src=\"output.mp4\"></video>"
      ],
      "text/plain": [
       "<IPython.core.display.HTML object>"
      ]
     },
     "execution_count": 1,
     "metadata": {},
     "output_type": "execute_result"
    }
   ],
   "source": [
    "import face_recognition\n",
    "from PIL import Image, ImageDraw\n",
    "import numpy\n",
    "import imageio\n",
    "imageio.plugins.ffmpeg.download()\n",
    "\n",
    "# Video\n",
    "from moviepy.editor import VideoFileClip\n",
    "from IPython.display import HTML\n",
    "\n",
    "# Define video function\n",
    "def create_video(pipeline_in, input_video, output_video):\n",
    "    # Process video\n",
    "    video = VideoFileClip( input_video )\n",
    "    video_processed = video.fl_image( pipeline_in )\n",
    "    %time video_processed.write_videofile( output_video, audio=False )\n",
    "\n",
    "# Pipeline\n",
    "def pipeline( image ):\n",
    "     \n",
    "#    # Load the jpg file into a numpy array\n",
    "#    image = face_recognition.load_image(image)\n",
    "\n",
    "    # Find all facial features in all the faces in the image\n",
    "    face_landmarks_list = face_recognition.face_landmarks(image)\n",
    "\n",
    "    for face_landmarks in face_landmarks_list:\n",
    "        pil_image = Image.fromarray(image)\n",
    "        d = ImageDraw.Draw(pil_image, 'RGBA')\n",
    "\n",
    "        # Make the eyebrows into a nightmare\n",
    "        d.polygon(face_landmarks['left_eyebrow'], fill=(68, 54, 39, 128))\n",
    "        d.polygon(face_landmarks['right_eyebrow'], fill=(68, 54, 39, 128))\n",
    "        d.line(face_landmarks['left_eyebrow'], fill=(68, 54, 39, 150), width=5)\n",
    "        d.line(face_landmarks['right_eyebrow'], fill=(68, 54, 39, 150), width=5)\n",
    "\n",
    "        # Gloss the lips\n",
    "        d.polygon(face_landmarks['top_lip'], fill=(150, 0, 0, 128))\n",
    "        d.polygon(face_landmarks['bottom_lip'], fill=(150, 0, 0, 128))\n",
    "        d.line(face_landmarks['top_lip'], fill=(150, 0, 0, 64), width=8)\n",
    "        d.line(face_landmarks['bottom_lip'], fill=(150, 0, 0, 64), width=8)\n",
    "\n",
    "        # Sparkle the eyes\n",
    "        d.polygon(face_landmarks['left_eye'], fill=(255, 255, 255, 30))\n",
    "        d.polygon(face_landmarks['right_eye'], fill=(255, 255, 255, 30))\n",
    "\n",
    "        # Apply some eyeliner\n",
    "        d.line(face_landmarks['left_eye'] + [face_landmarks['left_eye'][0]], fill=(0, 0, 0, 110), width=6)\n",
    "        d.line(face_landmarks['right_eye'] + [face_landmarks['right_eye'][0]], fill=(0, 0, 0, 110), width=6)\n",
    "\n",
    "        return numpy.asarray(pil_image)\n",
    "    return image\n",
    "\n",
    "\n",
    "# Create video\n",
    "create_video(pipeline, \"input_short.mov\", \"output.mp4\" )\n",
    "\n",
    "# Show video\n",
    "HTML(\"\"\"<video width=\"960\" height=\"540\" controls><source src=\"{0}\"></video>\"\"\".format( \"output.mp4\" ))\n",
    "\n"
   ]
  },
  {
   "cell_type": "code",
   "execution_count": null,
   "metadata": {
    "collapsed": true
   },
   "outputs": [],
   "source": []
  }
 ],
 "metadata": {
  "anaconda-cloud": {},
  "kernelspec": {
   "display_name": "Python 3",
   "language": "python",
   "name": "python3"
  },
  "language_info": {
   "codemirror_mode": {
    "name": "ipython",
    "version": 3
   },
   "file_extension": ".py",
   "mimetype": "text/x-python",
   "name": "python",
   "nbconvert_exporter": "python",
   "pygments_lexer": "ipython3",
   "version": "3.6.1"
  },
  "widgets": {
   "state": {},
   "version": "1.1.2"
  }
 },
 "nbformat": 4,
 "nbformat_minor": 1
}
